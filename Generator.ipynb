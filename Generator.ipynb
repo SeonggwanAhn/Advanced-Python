{
 "cells": [
  {
   "cell_type": "markdown",
   "id": "4580eb81",
   "metadata": {},
   "source": [
    "# Generator\n",
    "\n",
    "- **Generator**:A function that returns a [lazy iterator](https://en.wikipedia.org/wiki/Lazy_evaluation).\n",
    "\n",
    "- This chapter is organized as follows.  \n",
    "  1. Basic usage of generator  \n",
    "  2. Advantages of generator  \n",
    "  3. How to use the generator properly    \n",
    "    - Index Slicing  \n",
    "    - Iterate elegantly  \n",
    "    - Length of the generator    \n",
    "\n",
    "  4. Other examples of generator  \n",
    "  5. Appendix - *generator* and *list*, which is faster??  \n",
    "  6. Reference"
   ]
  },
  {
   "cell_type": "markdown",
   "id": "08226e44",
   "metadata": {},
   "source": [
    "## 1. Basic usage of generator\n",
    "\n",
    "- Basic example of **yield** and **generator expression**\n",
    "\n",
    "### (A) yield"
   ]
  },
  {
   "cell_type": "code",
   "execution_count": 1,
   "id": "ae0abfde",
   "metadata": {
    "scrolled": true
   },
   "outputs": [
    {
     "name": "stdout",
     "output_type": "stream",
     "text": [
      "<generator object number_generator at 0x7ff43ef21d60>\n",
      "0\n",
      "1 2 3 4 "
     ]
    },
    {
     "ename": "StopIteration",
     "evalue": "",
     "output_type": "error",
     "traceback": [
      "\u001b[0;31m---------------------------------------------------------------------------\u001b[0m",
      "\u001b[0;31mStopIteration\u001b[0m                             Traceback (most recent call last)",
      "\u001b[0;32m/tmp/ipykernel_602422/911613568.py\u001b[0m in \u001b[0;36m<module>\u001b[0;34m\u001b[0m\n\u001b[1;32m     18\u001b[0m \u001b[0;31m# This raises StopIteration error because iteration is done\u001b[0m\u001b[0;34m\u001b[0m\u001b[0;34m\u001b[0m\u001b[0;34m\u001b[0m\u001b[0m\n\u001b[1;32m     19\u001b[0m \u001b[0;31m# You can't reuse or copy generator object\u001b[0m\u001b[0;34m\u001b[0m\u001b[0;34m\u001b[0m\u001b[0;34m\u001b[0m\u001b[0m\n\u001b[0;32m---> 20\u001b[0;31m \u001b[0mprint\u001b[0m\u001b[0;34m(\u001b[0m\u001b[0mnext\u001b[0m\u001b[0;34m(\u001b[0m\u001b[0mnumbers\u001b[0m\u001b[0;34m)\u001b[0m\u001b[0;34m)\u001b[0m\u001b[0;34m\u001b[0m\u001b[0;34m\u001b[0m\u001b[0m\n\u001b[0m",
      "\u001b[0;31mStopIteration\u001b[0m: "
     ]
    }
   ],
   "source": [
    "# number_generator returns generator\n",
    "def number_generator(N: int):\n",
    "    for i in range(N):\n",
    "        yield i\n",
    "\n",
    "n = 5\n",
    "numbers = number_generator(n)\n",
    "print(numbers)\n",
    "\n",
    "# Index of this iterable object is added by 1\n",
    "print(next(numbers))\n",
    "\n",
    "# In this loop, it starts from index 1\n",
    "for i in numbers:\n",
    "    print(i, end=' ')\n",
    "\n",
    "\n",
    "# This raises StopIteration error because iteration is done\n",
    "# You can't reuse or copy generator object\n",
    "print(next(numbers))"
   ]
  },
  {
   "cell_type": "markdown",
   "id": "c36b7f39",
   "metadata": {},
   "source": [
    "### (B) Generator expression  \n",
    "- Generator expression by surrounding parenthesis ()"
   ]
  },
  {
   "cell_type": "code",
   "execution_count": 2,
   "id": "d9837e44",
   "metadata": {
    "scrolled": false
   },
   "outputs": [
    {
     "name": "stdout",
     "output_type": "stream",
     "text": [
      "<generator object <genexpr> at 0x7ff43c5ebe40>\n",
      "10\n",
      "<class 'list'>\n"
     ]
    }
   ],
   "source": [
    "numbers = (x for x in range(5))  # generator expression\n",
    "print(numbers)\n",
    "print(sum(numbers))\n",
    "\n",
    "# Do not be confused with list\n",
    "numbers_list = [x for x in range(5)]\n",
    "print(type(numbers_list))"
   ]
  },
  {
   "cell_type": "markdown",
   "id": "37ae9467",
   "metadata": {},
   "source": [
    "## 2. Advantages of the generator  \n",
    "#### 1. Memory Efficiency  \n",
    "   When you iterate over a list, python reserves memory for whole list.  \n",
    "   However, generator doesn't consume much memory because the generator object generates only next element on demand.  \n",
    "   \n",
    "#### 2. Infinite Stream  \n",
    "   Infinite streams can't be reserved in the memory, and the generator yields one item.  \n",
    "   So, when you handling infinite stream of data, it is recommended to use generator.  \n",
    "   \n",
    "#### 3. Pipelining Generators  \n",
    "   Creating data pipeline, it is useful to use generator."
   ]
  },
  {
   "cell_type": "code",
   "execution_count": 3,
   "id": "a78a6bd3",
   "metadata": {},
   "outputs": [
    {
     "name": "stdout",
     "output_type": "stream",
     "text": [
      "size with list: 81528048 bytes\n",
      "size with generator: 112 bytes\n"
     ]
    }
   ],
   "source": [
    "# 1. Memory Efficiency\n",
    "import sys\n",
    "N = 10**7\n",
    "square_list = [i ** 2 for i in range(N)]\n",
    "square_gen = (i**2 for i in range(N))\n",
    "print(f'size with list: {sys.getsizeof(square_list)} bytes')\n",
    "print(f'size with generator: {sys.getsizeof(square_gen)} bytes')"
   ]
  },
  {
   "cell_type": "code",
   "execution_count": 4,
   "id": "930821aa",
   "metadata": {},
   "outputs": [
    {
     "name": "stdout",
     "output_type": "stream",
     "text": [
      "0, 1, 2, 3, 4, 5, 6, 7, 8, 9, 10, 11, 12, 13, 14, 15, 16, 17, 18, 19, 20, 21, 22, 23, 24, 25, 26, 27, 28, 29, 30, 31, 32, 33, 34, 35, 36, 37, 38, 39, 40, 41, 42, 43, 44, 45, 46, 47, 48, 49, 50, 51, 52, 53, 54, 55, 56, 57, 58, 59, 60, 61, 62, 63, 64, 65, 66, 67, 68, 69, 70, 71, 72, 73, 74, 75, 76, 77, 78, 79, 80, 81, 82, 83, 84, 85, 86, 87, 88, 89, 90, 91, 92, 93, 94, 95, 96, 97, 98, 99, 100, ...   end of infinite numbers...\n"
     ]
    }
   ],
   "source": [
    "# 2. Infinite Stream\n",
    "def infinite_generator():\n",
    "    num = 0\n",
    "    while True:\n",
    "        yield num\n",
    "        num += 1\n",
    "\n",
    "inf_gen = infinite_generator()\n",
    "for n in inf_gen:\n",
    "    print(n, end=', ')\n",
    "    if n == 100:\n",
    "        print('...   end of infinite numbers...')\n",
    "        break"
   ]
  },
  {
   "cell_type": "code",
   "execution_count": 5,
   "id": "22b8dc16",
   "metadata": {},
   "outputs": [
    {
     "name": "stdout",
     "output_type": "stream",
     "text": [
      "sum of squares of 10 Fibonacci number: 4895\n"
     ]
    }
   ],
   "source": [
    "# 3. Pipelining Generators\n",
    "# sum of squares of the Fibonacci numbers\n",
    "# pipeline: fibonacci -> square -> sum\n",
    "def fibonacci(rg):\n",
    "    x, y = 0, 1\n",
    "    for _ in range(rg):\n",
    "        x, y = y, x+y\n",
    "        yield x\n",
    "        \n",
    "        \n",
    "def square(nums):\n",
    "    # 'nums' variable is a generator object, so you should iterate\n",
    "    for num in nums:\n",
    "        yield num ** 2\n",
    "        \n",
    "\n",
    "num_range = 10\n",
    "print(f'sum of squares of {num_range} Fibonacci number: {sum(square(fibonacci(num_range)))}')"
   ]
  },
  {
   "cell_type": "markdown",
   "id": "852d9b34",
   "metadata": {},
   "source": [
    "## 3. How to utilize generator properly  \n",
    "\n",
    "\n",
    "### (A) Index Slicing  \n",
    "\n",
    "- You can't slice indices of the generator object.\n",
    "- it makes ```TypeError: 'generator' object is not subscriptable```"
   ]
  },
  {
   "cell_type": "code",
   "execution_count": 6,
   "id": "880623eb",
   "metadata": {},
   "outputs": [
    {
     "ename": "TypeError",
     "evalue": "'generator' object is not subscriptable",
     "output_type": "error",
     "traceback": [
      "\u001b[0;31m---------------------------------------------------------------------------\u001b[0m",
      "\u001b[0;31mTypeError\u001b[0m                                 Traceback (most recent call last)",
      "\u001b[0;32m/tmp/ipykernel_602422/1882500078.py\u001b[0m in \u001b[0;36m<module>\u001b[0;34m\u001b[0m\n\u001b[1;32m      4\u001b[0m \u001b[0;34m\u001b[0m\u001b[0m\n\u001b[1;32m      5\u001b[0m \u001b[0;31m# error\u001b[0m\u001b[0;34m\u001b[0m\u001b[0;34m\u001b[0m\u001b[0;34m\u001b[0m\u001b[0m\n\u001b[0;32m----> 6\u001b[0;31m \u001b[0mprint\u001b[0m\u001b[0;34m(\u001b[0m\u001b[0mnumbers\u001b[0m\u001b[0;34m[\u001b[0m\u001b[0mindex\u001b[0m\u001b[0;34m]\u001b[0m\u001b[0;34m)\u001b[0m\u001b[0;34m\u001b[0m\u001b[0;34m\u001b[0m\u001b[0m\n\u001b[0m\u001b[1;32m      7\u001b[0m \u001b[0;34m\u001b[0m\u001b[0m\n\u001b[1;32m      8\u001b[0m \u001b[0;31m# error\u001b[0m\u001b[0;34m\u001b[0m\u001b[0;34m\u001b[0m\u001b[0;34m\u001b[0m\u001b[0m\n",
      "\u001b[0;31mTypeError\u001b[0m: 'generator' object is not subscriptable"
     ]
    }
   ],
   "source": [
    "n = 5\n",
    "numbers = number_generator(n)\n",
    "index = 1\n",
    "\n",
    "# error\n",
    "print(numbers[index])\n",
    "    \n",
    "# error\n",
    "for i in numbers[index:]:\n",
    "    print(i)"
   ]
  },
  {
   "cell_type": "markdown",
   "id": "16494aeb",
   "metadata": {},
   "source": [
    "- If you want to index slicing, you can use two ways.  \n",
    "    (1) generator to list  \n",
    "    (2) using ```itertools.islice```"
   ]
  },
  {
   "cell_type": "code",
   "execution_count": 7,
   "id": "f1b8ce4c",
   "metadata": {},
   "outputs": [
    {
     "name": "stdout",
     "output_type": "stream",
     "text": [
      "(1) generator to list: 1\n",
      "(2) itertools.islice: 1\n"
     ]
    }
   ],
   "source": [
    "index = 1\n",
    "n = 5\n",
    "numbers = number_generator(n)\n",
    "\n",
    "\n",
    "# (1) generator to list\n",
    "num_list = list(numbers)\n",
    "print(f'(1) generator to list: {num_list[index]}')\n",
    "\n",
    "# (2) itertools.islice\n",
    "# itertools.islice(iterable, stop)\n",
    "# itertools.islice(iterable, start, stop[, step])\n",
    "from itertools import islice\n",
    "slice = islice(number_generator(n), index, index+1)  # arg position 0: not 'numbers', but 'number_generator()'\n",
    "index_element = next(slice)\n",
    "print(f'(2) itertools.islice: {index_element}')"
   ]
  },
  {
   "cell_type": "markdown",
   "id": "69d275e4",
   "metadata": {},
   "source": [
    "### (B) Using ```for``` loop is an elegant way to iterate generator object\n"
   ]
  },
  {
   "cell_type": "code",
   "execution_count": null,
   "id": "e02d775f",
   "metadata": {},
   "outputs": [],
   "source": [
    "for element in iterable\n",
    "    pass"
   ]
  },
  {
   "cell_type": "markdown",
   "id": "2635c19a",
   "metadata": {},
   "source": [
    "Since ```for``` loop **automatically** iterates until the end of the iterable object, StopIteration error doesn't occur.\n",
    "\n",
    "```for``` loop is actually implemented as below."
   ]
  },
  {
   "cell_type": "code",
   "execution_count": null,
   "id": "81d28702",
   "metadata": {},
   "outputs": [],
   "source": [
    "iterator = iter(iterable)\n",
    "while True:\n",
    "    try:\n",
    "        element = next(iterator)\n",
    "        pass\n",
    "    except StopIteration:\n",
    "        break"
   ]
  },
  {
   "cell_type": "markdown",
   "id": "05e52435",
   "metadata": {},
   "source": [
    "### (C) Length of the generator object\n",
    "\n",
    "- You can't use ```len``` function to the generator object directly.\n",
    "- There are 2 ways to get length of generator  \n",
    "    (1) convert ```generator``` to ```list``` and use ```len``` function  \n",
    "    (2) make another generator to use ```sum``` function"
   ]
  },
  {
   "cell_type": "code",
   "execution_count": 8,
   "id": "6e65d969",
   "metadata": {},
   "outputs": [
    {
     "name": "stdout",
     "output_type": "stream",
     "text": [
      "TypeError: object of type 'generator' has no len()\n",
      "(1) len of numbers: 5\n",
      "(2) len of numbers: 5\n"
     ]
    }
   ],
   "source": [
    "# can't use len function to the generator object\n",
    "n = 5\n",
    "numbers = number_generator(n)\n",
    "try:\n",
    "    len_numbers = len(numbers)\n",
    "except TypeError:\n",
    "    print(\"TypeError: object of type 'generator' has no len()\")\n",
    "    \n",
    "\n",
    "# (1) convert generator to list\n",
    "numbers = number_generator(n)\n",
    "numbers_list = list(numbers)\n",
    "len_numbers = len(numbers_list)\n",
    "print(f'(1) len of numbers: {len_numbers}')\n",
    "\n",
    "\n",
    "# (2) sum function\n",
    "numbers = number_generator(n)\n",
    "len_numbers = sum(1 for _ in numbers)\n",
    "print(f'(2) len of numbers: {len_numbers}')"
   ]
  },
  {
   "cell_type": "code",
   "execution_count": 9,
   "id": "f6425b07",
   "metadata": {
    "scrolled": false
   },
   "outputs": [
    {
     "name": "stdout",
     "output_type": "stream",
     "text": [
      "<generator object <genexpr> at 0x7ff43c5f1ac0>\n",
      "10\n",
      "<class 'list'>\n"
     ]
    }
   ],
   "source": [
    "numbers = (x for x in range(5))  # generator expression\n",
    "print(numbers)\n",
    "print(sum(numbers))\n",
    "\n",
    "# Do not be confused with list\n",
    "numbers_list = [x for x in range(5)]\n",
    "print(type(numbers_list))"
   ]
  },
  {
   "cell_type": "markdown",
   "id": "207058e0",
   "metadata": {},
   "source": [
    "## 4. Other examples\n",
    "\n",
    "\n",
    "### (A) batch function"
   ]
  },
  {
   "cell_type": "code",
   "execution_count": null,
   "id": "9658f209",
   "metadata": {},
   "outputs": [],
   "source": [
    "# input: iterable object, batch size\n",
    "# output: generator object\n",
    "def batch(iterable, batch_size: int):\n",
    "    l = len(x)\n",
    "    for i in range(0, l, batch_size):\n",
    "        yield iterable[i:min(l, i+batch_size)]"
   ]
  },
  {
   "cell_type": "markdown",
   "id": "4c3656d8",
   "metadata": {},
   "source": [
    "### (B) Read large file  "
   ]
  },
  {
   "cell_type": "code",
   "execution_count": 10,
   "id": "ea626fbb",
   "metadata": {},
   "outputs": [
    {
     "name": "stdout",
     "output_type": "stream",
     "text": [
      "company_dicts : <generator object <genexpr> at 0x7ff403a9c6d0>\n",
      "{'permalink': 'digg', 'company': 'Digg', 'numEmps': '60', 'category': 'web', 'city': 'San Francisco', 'state': 'CA', 'fundedDate': '1-Dec-06', 'raisedAmt': '8500000', 'raisedCurrency': 'USD', 'round': 'b'}\n",
      "{'permalink': 'digg', 'company': 'Digg', 'numEmps': '60', 'category': 'web', 'city': 'San Francisco', 'state': 'CA', 'fundedDate': '1-Oct-05', 'raisedAmt': '2800000', 'raisedCurrency': 'USD', 'round': 'a'}\n",
      "{'permalink': 'facebook', 'company': 'Facebook', 'numEmps': '450', 'category': 'web', 'city': 'Palo Alto', 'state': 'CA', 'fundedDate': '1-Sep-04', 'raisedAmt': '500000', 'raisedCurrency': 'USD', 'round': 'angel'}\n",
      "{'permalink': 'facebook', 'company': 'Facebook', 'numEmps': '450', 'category': 'web', 'city': 'Palo Alto', 'state': 'CA', 'fundedDate': '1-May-05', 'raisedAmt': '12700000', 'raisedCurrency': 'USD', 'round': 'a'}\n",
      "{'permalink': 'photobucket', 'company': 'Photobucket', 'numEmps': '60', 'category': 'web', 'city': 'Palo Alto', 'state': 'CA', 'fundedDate': '1-Mar-05', 'raisedAmt': '3000000', 'raisedCurrency': 'USD', 'round': 'a'}\n"
     ]
    }
   ],
   "source": [
    "# (1) yield\n",
    "def reader(file):\n",
    "    for row in open(file, 'r'):\n",
    "        yield row\n",
    "\n",
    "        \n",
    "# (2) generator expression\n",
    "# example from https://realpython.com/introduction-to-python-generators/#creating-data-pipelines-with-generators\n",
    "# file = \"data.csv\"\n",
    "# lines = (line for line in open(file, 'r'))\n",
    "\n",
    "# imagine var 'lines' is the large file\n",
    "lines = ['permalink,company,numEmps,category,city,state,fundedDate,raisedAmt,raisedCurrency,round',\n",
    "'digg,Digg,60,web,San Francisco,CA,1-Dec-06,8500000,USD,b',\n",
    "'digg,Digg,60,web,San Francisco,CA,1-Oct-05,2800000,USD,a',\n",
    "'facebook,Facebook,450,web,Palo Alto,CA,1-Sep-04,500000,USD,angel',\n",
    "'facebook,Facebook,450,web,Palo Alto,CA,1-May-05,12700000,USD,a',\n",
    "'photobucket,Photobucket,60,web,Palo Alto,CA,1-Mar-05,3000000,USD,a',\n",
    "]\n",
    "lines_split = (line.strip().split(',') for line in lines)\n",
    "list_line = (s.rstrip().split(\",\") for s in lines)\n",
    "\n",
    "# extract column names\n",
    "cols = next(list_line)\n",
    "\n",
    "company_dicts = (dict(zip(cols, data)) for data in list_line)\n",
    "print(f'company_dicts : {company_dicts}')\n",
    "for c in company_dicts:\n",
    "    print(c)"
   ]
  },
  {
   "cell_type": "markdown",
   "id": "36cf18fe",
   "metadata": {},
   "source": [
    "## 5. Appendix - *generator* and *list*, which is faster?  \n",
    "\n",
    "- We see the memory efficiency of generator compared to list in **2-1(Memory effiency)**  \n",
    "- In this section, we compare the *performance* between list and generator."
   ]
  },
  {
   "cell_type": "code",
   "execution_count": 11,
   "id": "6a1a1994",
   "metadata": {},
   "outputs": [
    {
     "name": "stdout",
     "output_type": "stream",
     "text": [
      "Generator expression time: 0.252374657895416\n",
      "List comprehension time: 4.814713066909462\n"
     ]
    }
   ],
   "source": [
    "# Declaration iteratable object\n",
    "import timeit\n",
    "generator_exp_time = timeit.timeit('''gexp = (1 + x for x in range(200))''', number=1000000)\n",
    "print(f'Generator expression time: {generator_exp_time}')\n",
    "\n",
    "\n",
    "list_comp_time = timeit.timeit('''listcomp = [1 + x for x in range(200)]''', number=1000000)\n",
    "print(f'List comprehension time: {list_comp_time}')"
   ]
  },
  {
   "cell_type": "markdown",
   "id": "c121a27f",
   "metadata": {},
   "source": [
    "The first example shows the declaration performance between generator and list.  \n",
    "As shown in the results, the generator is faster than list.  \n",
    "This is because list reserves all resources into the memory at once.  \n",
    "In contrast, generator yields only one element at first.  \n",
    "This is the difference of declaration performance between generator and list."
   ]
  },
  {
   "cell_type": "code",
   "execution_count": 12,
   "id": "af811a03",
   "metadata": {
    "scrolled": false
   },
   "outputs": [
    {
     "name": "stdout",
     "output_type": "stream",
     "text": [
      "Generator: \n",
      "         100000005 function calls in 25.144 seconds\n",
      "\n",
      "   Ordered by: standard name\n",
      "\n",
      "   ncalls  tottime  percall  cumtime  percall filename:lineno(function)\n",
      "100000001   18.758    0.000   18.758    0.000 <string>:1(<genexpr>)\n",
      "        1    0.000    0.000   25.144   25.144 <string>:1(<module>)\n",
      "        1    0.000    0.000   25.144   25.144 {built-in method builtins.exec}\n",
      "        1    6.386    6.386   25.144   25.144 {built-in method builtins.sum}\n",
      "        1    0.000    0.000    0.000    0.000 {method 'disable' of '_lsprof.Profiler' objects}\n",
      "\n",
      "\n",
      "List comprehension: \n",
      "         5 function calls in 17.647 seconds\n",
      "\n",
      "   Ordered by: standard name\n",
      "\n",
      "   ncalls  tottime  percall  cumtime  percall filename:lineno(function)\n",
      "        1   15.347   15.347   15.347   15.347 <string>:1(<listcomp>)\n",
      "        1    0.654    0.654   17.647   17.647 <string>:1(<module>)\n",
      "        1    0.000    0.000   17.647   17.647 {built-in method builtins.exec}\n",
      "        1    1.647    1.647    1.647    1.647 {built-in method builtins.sum}\n",
      "        1    0.000    0.000    0.000    0.000 {method 'disable' of '_lsprof.Profiler' objects}\n",
      "\n",
      "\n"
     ]
    }
   ],
   "source": [
    "# Declaration iterable object & Squaring and summing up the values\n",
    "import cProfile\n",
    "N = 10**8\n",
    "# generator\n",
    "print('Generator: ')\n",
    "cProfile.run('sum((i ** 2 for i in range(N)))')\n",
    "\n",
    "\n",
    "# list\n",
    "print('List comprehension: ')\n",
    "cProfile.run('sum([i ** 2 for i in range(N)])')"
   ]
  },
  {
   "cell_type": "markdown",
   "id": "57c8381e",
   "metadata": {},
   "source": [
    "Unlike first example(only declaration), this example declares iterable object, squares and sums up all values in the range N.  \n",
    "This result says generator is *slower* than list.  \n",
    "What happened??  \n",
    "\n",
    "This is because generator ***produces only one element at a time***, which makes generator *slower* than list when they are actually executed.  \n",
    "Specifically, the result of list reports ```listcomp(list comprehension)``` was called **1** times.  \n",
    "In contrast, the result of generator says ```genexpr'(generator expression)``` is called **100000001** times for sum().  "
   ]
  },
  {
   "cell_type": "markdown",
   "id": "60a87273",
   "metadata": {},
   "source": [
    "### References\n",
    "- https://www.programiz.com/python-programming/iterator\n",
    "- https://www.programiz.com/python-programming/generator\n",
    "- https://www.daleseo.com/python-yield/\n",
    "- https://docs.python.org/3/library/itertools.html#itertools.islice\n",
    "- https://realpython.com/introduction-to-python-generators/\n",
    "- https://stackoverflow.com/questions/393053/length-of-generator-output\n",
    "- https://medium.com/free-code-camp/python-list-comprehensions-vs-generator-expressions-cef70ccb49db\n",
    "- https://betterprogramming.pub/4-reasons-why-should-be-using-python-generators-660458b0085d"
   ]
  }
 ],
 "metadata": {
  "kernelspec": {
   "display_name": "nlp_assignment",
   "language": "python",
   "name": "nlp_assignment"
  },
  "language_info": {
   "codemirror_mode": {
    "name": "ipython",
    "version": 3
   },
   "file_extension": ".py",
   "mimetype": "text/x-python",
   "name": "python",
   "nbconvert_exporter": "python",
   "pygments_lexer": "ipython3",
   "version": "3.8.12"
  }
 },
 "nbformat": 4,
 "nbformat_minor": 5
}
