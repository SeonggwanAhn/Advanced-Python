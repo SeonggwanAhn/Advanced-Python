{
 "cells": [
  {
   "cell_type": "markdown",
   "id": "cbdbc4e1",
   "metadata": {},
   "source": [
    "# Function  \n",
    "\n",
    "- This topic, function, seems to be easy for knowledgable programmers, but this chapter discusses Pythonic usage of the function.  \n",
    "- This chapter is organized as follows.  \n",
    "    1. Function is an object, too\n",
    "    2. Closure\n",
    "    3. Packing, Unpacking (\\*args, \\*\\*kwargs)\n",
    "    4. Anonymous function(w/ map, filter, reduce)\n",
    "    5. References"
   ]
  },
  {
   "cell_type": "markdown",
   "id": "235ea762",
   "metadata": {},
   "source": [
    "## 1. Function is an object, too  \n",
    "\n",
    "You can think that function returns a value given arguments.  \n",
    "However, in Python, a function is a [first-class object](https://isaaccomputerscience.org/concepts/prog_func_first_class_objects?examBoard=all&stage=all). It means a function also can be *(1) an argument*, *(2) return value*, (3) *assigned to a variable*, and *(4) appear in an expression*.  \n",
    "\n",
    "Let's see some exaplmes."
   ]
  },
  {
   "cell_type": "code",
   "execution_count": 13,
   "id": "1a64f6bd",
   "metadata": {},
   "outputs": [
    {
     "name": "stdout",
     "output_type": "stream",
     "text": [
      "(1) Variable: Hello World\n",
      "(2) Function object: <function print_world at 0x7fe254510dc0>\n",
      "(3) Variable: Hello World\n"
     ]
    }
   ],
   "source": [
    "# a function used as an argument, return value\n",
    "\n",
    "def print_hello(string: str):\n",
    "    return f'Hello {string}'\n",
    "\n",
    "def print_world(func):\n",
    "    return func(\"World\")\n",
    "\n",
    "\n",
    "hello_world_var = print_world(print_hello)\n",
    "print(f'(1) Variable: {hello_world_var}')\n",
    "\n",
    "# (2) \n",
    "hello_world_func = print_world\n",
    "print(f'(2) Function object: {hello_world_func}')\n",
    "# (3)\n",
    "hello_world_var = hello_world_func(print_hello)\n",
    "print(f'(3) Variable: {hello_world_var}')"
   ]
  },
  {
   "cell_type": "markdown",
   "id": "ca1b60d0",
   "metadata": {},
   "source": [
    "In ```hello_world = print_world(print_hello)```, ```print_hello``` function was passed to ```print_world``` function without parenthsis. This means *the reference* of the function ```print_hello``` was sent to ```print_world``` function.  \n",
    "And as a return value of ```print_world``` function, ```print_hello``` function was *called*, not referenced.  \n",
    "(2) hello_world_func references same function object because the line copied reference to hello_world_func variable. as a result of (2), (3) returned same value as (1).  \n",
    "\n",
    "And let's see another example."
   ]
  },
  {
   "cell_type": "code",
   "execution_count": 20,
   "id": "a43013cb",
   "metadata": {
    "scrolled": true
   },
   "outputs": [
    {
     "name": "stdout",
     "output_type": "stream",
     "text": [
      "<function print_string.<locals>.print_hello_world at 0x7fe2545dddc0>\n",
      "Hello World\n"
     ]
    }
   ],
   "source": [
    "def print_string():\n",
    "    def print_hello_world():\n",
    "        print(f'Hello World')\n",
    "    return print_hello_world\n",
    "\n",
    "hello_world_func = print_string()\n",
    "\n",
    "print(hello_world_func)\n",
    "hello_world_func()"
   ]
  },
  {
   "cell_type": "markdown",
   "id": "ebe7c7da",
   "metadata": {},
   "source": [
    "This example is about nested function. A nested function means a function is inside another(enclosing) function. Nested functions can access variables of the enclosing scope.  \n",
    "\n",
    "  \n",
    "\n",
    "Now, we can get into the closure."
   ]
  },
  {
   "cell_type": "markdown",
   "id": "4590451a",
   "metadata": {},
   "source": [
    "## 2. Closure  \n",
    "\n",
    "The use of data(variables) of the enclosing function in the nested function is called closure.  \n",
    "Below is an example of closure."
   ]
  },
  {
   "cell_type": "code",
   "execution_count": 24,
   "id": "45b1d377",
   "metadata": {},
   "outputs": [
    {
     "name": "stdout",
     "output_type": "stream",
     "text": [
      "Hello World\n"
     ]
    }
   ],
   "source": [
    "def print_world():\n",
    "    world = 'World'\n",
    "    def print_greeting(greet: str):\n",
    "        return f'{greet} {world}'\n",
    "    return print_greeting\n",
    "    \n",
    " \n",
    "greeting_world = print_world()\n",
    "words = greeting_world(\"Hello\")\n",
    "print(words)"
   ]
  },
  {
   "cell_type": "markdown",
   "id": "190e8154",
   "metadata": {},
   "source": [
    "This example shows nested functions can access variables of the enclosing scope by using the variable ```world``` in the ```print_greeting``` function.  \n",
    "Then, when and why to use Closure?  \n",
    "You can use the closure if you want to combine nonlocal variables and codes.  \n",
    "And you can use the closure if you want to hide the data because nonlocal variables can't be directly accessed from the outside.\n",
    "   \n",
    "\n",
    "You will see this concept in the```decorator``` later."
   ]
  },
  {
   "cell_type": "markdown",
   "id": "db65b7f7",
   "metadata": {},
   "source": [
    "# 3. Packing, Unpacking  \n",
    "\n",
    "Packing : Packing multiple objects(int, str, list, ...) into one object.  \n",
    "Unpacking: Unpacking one object that contains multiple objects.\n",
    "\n",
    "This section mainly deals with ```*args```, ```**kwargs```.\n",
    "Both keywords are used for variable length arguments. The difference is the existence of key.  \n",
    "Let's take examples about packing first."
   ]
  },
  {
   "cell_type": "code",
   "execution_count": 63,
   "id": "79e32943",
   "metadata": {
    "scrolled": true
   },
   "outputs": [
    {
     "name": "stdout",
     "output_type": "stream",
     "text": [
      "type of args: <class 'tuple'>\n",
      "value of args: ('Alice', 'Bob', 'Carol')\n",
      "type of kwargs: <class 'dict'>\n",
      "value of kwargs: {'A': 'Alice', 'B': 'Bob', 'C': 'Carol'}\n"
     ]
    }
   ],
   "source": [
    "# *args example\n",
    "def print_args(*args):\n",
    "    print(f'type of args: {type(args)}')\n",
    "    print(f'value of args: {args}')\n",
    "\n",
    "# **kwargs example\n",
    "def print_kwargs(**kwargs):\n",
    "    print(f'type of kwargs: {type(kwargs)}')\n",
    "    print(f'value of kwargs: {kwargs}')\n",
    "\n",
    "# *args example\n",
    "print_args('Alice', 'Bob', 'Carol')\n",
    "\n",
    "# **kwargs example\n",
    "print_kwargs(A='Alice', B='Bob', C='Carol')"
   ]
  },
  {
   "cell_type": "markdown",
   "id": "2f7535fa",
   "metadata": {},
   "source": [
    "Both examples(\\*args, \\*\\*kwrags) pass the variable-length arguments by packing them into one object.  \n",
    "In \\*args example, the variables that have no key are passed, so they are packed into the tuple type as a one object. On the contrary, in the \\*\\*kwargs example, variables that have key are passed, so they are packed into the dict type as a one object. This example is the usage of packing and the difference between args and kwargs.  \n",
    "\n",
    "Then, how to use packing in case of using them together? And what about using packing and non-packing together?  "
   ]
  },
  {
   "cell_type": "code",
   "execution_count": 58,
   "id": "c079cc44",
   "metadata": {},
   "outputs": [
    {
     "name": "stdout",
     "output_type": "stream",
     "text": [
      "{'name_0': 'Alice', 'name_1': 'Bob', 'name_2': 'Carol', 'name_3': 'David', 'name_4': 'Eve', 'name_5': 'Frank', 'name_6': 'Grace'}\n"
     ]
    }
   ],
   "source": [
    "# order of function arguments\n",
    "def print_args(a, b, *args, e='Eve', **kwargs):\n",
    "    name_dict = dict()\n",
    "    for i, name in enumerate([a, b, *args, e]):\n",
    "        name_dict[f'name_{i}'] = name\n",
    "    name_dict.update(kwargs)\n",
    "    print(name_dict)\n",
    "\n",
    "    \n",
    "print_args('Alice', 'Bob', 'Carol', 'David', name_5='Frank', name_6='Grace')\n",
    "\n",
    "    "
   ]
  },
  {
   "cell_type": "markdown",
   "id": "5a072591",
   "metadata": {},
   "source": [
    "When you want to use packing(args, kwargs) and non-packing together, you can construct the order of function arguments as in the example above. Variables(a, b, args) that have no key are written first, which(e, kwargs) have key are written later. In addition, packed variables(args, kwargs) are written later than non-packed variables(a, b, e).  \n",
    "\n",
    "Next example is a bit complicated, but it will be discuss later."
   ]
  },
  {
   "cell_type": "code",
   "execution_count": 44,
   "id": "a2af76e0",
   "metadata": {
    "scrolled": true
   },
   "outputs": [
    {
     "name": "stdout",
     "output_type": "stream",
     "text": [
      "name_0: 이름1\n",
      "name_1: 이름2\n",
      "name_2: 이름3\n",
      "name_4: 이름4\n",
      "name_5: 이름5\n"
     ]
    }
   ],
   "source": [
    "# nested function & *args, **kwargs\n",
    "def print_num_name():\n",
    "    def get_args(*args, **kwargs):\n",
    "        name_list = list(args)\n",
    "        name_dict = dict()\n",
    "        for i, name in enumerate(name_list):\n",
    "            name_dict[f'name_{i}'] = name\n",
    "        name_dict.update(kwargs)\n",
    "        \n",
    "        for k, v in name_dict.items():\n",
    "            print(f'{k}: {v}')\n",
    "    return get_args\n",
    "\n",
    "\n",
    "num_names = print_num_name()\n",
    "num_names('이름1', '이름2', '이름3', name_4='이름4', name_5='이름5')  # key should be string\n"
   ]
  },
  {
   "cell_type": "markdown",
   "id": "433b1f00",
   "metadata": {},
   "source": [
    "Details about the avobe example will be discussed in Decorator.  \n",
    "\n",
    "Next topic is **Unpacking**."
   ]
  },
  {
   "cell_type": "code",
   "execution_count": 68,
   "id": "eef08149",
   "metadata": {
    "scrolled": false
   },
   "outputs": [
    {
     "name": "stdout",
     "output_type": "stream",
     "text": [
      "type of args: <class 'tuple'>\n",
      "value of args: ('Alice', 'Bob', 'Carol')\n",
      "type of kwargs: <class 'dict'>\n",
      "value of kwargs: {'A': 'Alice', 'B': 'Bob', 'C': 'Carol'}\n"
     ]
    }
   ],
   "source": [
    "# Unpacking\n",
    "names = ['Alice', 'Bob', 'Carol']\n",
    "names_dict = {'A': 'Alice', 'B': 'Bob', 'C': 'Carol'}\n",
    "print_args(*names)\n",
    "print_kwargs(**names_dict)"
   ]
  },
  {
   "cell_type": "markdown",
   "id": "28a50d50",
   "metadata": {},
   "source": [
    "In contrast to packing, as we saw it a little bit earlier, unpacking means unpacking multiple objects which are packed in one object(list, dictionary, ...).  \n",
    "To explain the example above, by unwinding each object(list, dict) to multiple objects(str), they are passed to ```print_args``` and ```print_kwargs``` each for each function to get multiple arguments.  \n",
    "We can use the unpacking when we want to pass variable-length arguments with one object.  \n",
    "It is carried out in the following steps.\n",
    "```python\n",
    "1) print_list(*names)\n",
    "2) print_list(*['Alice', 'Bob', 'Carol'])\n",
    "3) print_list('Alice', 'Bob', 'Carol')\n",
    "```\n",
    "\n",
    "This process is true of ```**kwargs```."
   ]
  },
  {
   "cell_type": "markdown",
   "id": "77416d0f",
   "metadata": {},
   "source": [
    "# 4. Anonymous Function  \n",
    "\n",
    "Anonymous function means a function is defined without its name.  \n",
    "This section is mainly about ```lambda``` function which represents the anonymous function. Besides, we will talk about ```map```, ```filter``` functions used along with ```lambda``` function.  \n",
    "Lambda function is used as following syntax.\n",
    "```\n",
    "lambda arguments: expression\n",
    "```\n",
    "We will be able to understand what the syntax means by following examples."
   ]
  },
  {
   "cell_type": "code",
   "execution_count": 103,
   "id": "315780aa",
   "metadata": {},
   "outputs": [
    {
     "name": "stdout",
     "output_type": "stream",
     "text": [
      "(1) 4\n",
      "(2) 4\n",
      "(3) 4\n",
      "(4) 4\n",
      "(5) 4\n"
     ]
    },
    {
     "data": {
      "text/plain": [
       "6"
      ]
     },
     "execution_count": 103,
     "metadata": {},
     "output_type": "execute_result"
    }
   ],
   "source": [
    "# (1)\n",
    "res = (lambda x: x * 2)(2)\n",
    "print(f'(1) {res}')\n",
    "\n",
    "# (2)\n",
    "func = lambda x: x * 2\n",
    "res = func(2)\n",
    "print(f'(2) {res}')\n",
    "\n",
    "# (3)\n",
    "func = lambda x,y: x * y\n",
    "res = func(2, 2)\n",
    "print(f'(3) {res}')\n",
    "\n",
    "# (4) *args\n",
    "func = lambda *args: sum(args)\n",
    "res = func(2, 2)\n",
    "print(f'(4) {res}')\n",
    "\n",
    "# (5) **kwargs\n",
    "func = lambda **kwargs: sum(kwargs.values())\n",
    "res = func(val_1=2, val_2=2)\n",
    "print(f'(5) {res}')\n",
    "\n",
    "# (6) bare asterisk\n",
    "(lambda x, *, y=0, z=0: x + y + z)(1, y=2, z=3)"
   ]
  },
  {
   "cell_type": "markdown",
   "id": "34a733c7",
   "metadata": {},
   "source": [
    "(1) The lambda function takes 2 as an argument x, and adds 2. Since it is surrounded by parenthesis, it returns the result of the operation.   \n",
    "(2) This function is same as (1). But the difference is parenthesis. It is not enclosed in parenthesis, it returns the function object.  \n",
    "(3) This functions multiplies the argument by 2. The return value is function object.  \n",
    "(4) This function takes the arguments by \\*args, which means it receives variable-length arguments that have no keywords.  \n",
    "(5) This function also uses packing, but the arguments need the keywords.  \n",
    "(6) Bare asterisk: It foces the caller to write the arguments with the keyword(e,g. y=2) from next arguments. So, the arguments(y, z) after bare asterisk need the keywords, but the first argument(x) doesn't need the keyword.  \n",
    "  \n",
    "You get how the lambda function works, so let's get into real examples.  \n",
    "First example is sorting list of tuple in descending order by latter element."
   ]
  },
  {
   "cell_type": "code",
   "execution_count": 71,
   "id": "734fef08",
   "metadata": {
    "scrolled": true
   },
   "outputs": [
    {
     "name": "stdout",
     "output_type": "stream",
     "text": [
      "[(70, 5), (90, 2), (100, 1)]\n"
     ]
    }
   ],
   "source": [
    "tuples = [(100, 1), (90, 2), (70, 5)]\n",
    "sorted_tuples = sorted(tuples, key=lambda x:x[1], reverse=True)\n",
    "print(sorted_tuples)"
   ]
  },
  {
   "cell_type": "markdown",
   "id": "41555566",
   "metadata": {},
   "source": [
    "Using lambda, we sorted list of tuples in descending order by latter element(not former element).  \n",
    "In ```sorted()```, ```key``` argument takes a function as its value. And the return value of the key function is the criteria to sort. ```reverse``` argument decides to sort in ascending/descending order. if ```True```, it is descending order.  \n",
    "\n",
    "Second example is to multiply each element of a list by 2. This example uses map function.  \n"
   ]
  },
  {
   "cell_type": "code",
   "execution_count": 76,
   "id": "0dd59a56",
   "metadata": {
    "scrolled": true
   },
   "outputs": [
    {
     "name": "stdout",
     "output_type": "stream",
     "text": [
      "[2, 4, 6, 8, 10, 12, 14, 16, 18]\n"
     ]
    }
   ],
   "source": [
    "nums = [1, 2, 3, 4, 5, 6, 7, 8, 9]\n",
    "nums_multiplied = list(map(lambda x: x * 2, nums))\n",
    "print(nums_multiplied)"
   ]
  },
  {
   "cell_type": "markdown",
   "id": "98f8da6b",
   "metadata": {},
   "source": [
    "```map()``` takes a function as a first element, object as a second element. returns map object. So, we did list() to make it list object.  \n",
    "  \n",
    "Third example about lambda function is to filter elements which are divided by 2 in a list. This example uses filter function."
   ]
  },
  {
   "cell_type": "code",
   "execution_count": 77,
   "id": "a29ff960",
   "metadata": {},
   "outputs": [
    {
     "name": "stdout",
     "output_type": "stream",
     "text": [
      "[2, 4, 6, 8]\n"
     ]
    }
   ],
   "source": [
    "nums = [1, 2, 3, 4, 5, 6, 7, 8, 9]\n",
    "nums_filtered = list(filter(lambda x: x % 2 == 0, nums))\n",
    "print(nums_filtered)"
   ]
  },
  {
   "cell_type": "markdown",
   "id": "58ef15b9",
   "metadata": {},
   "source": [
    "```filter()``` also takes first, second element as function, iterable object. The function as a first element is about condition, what element to filter. So, ```filter()``` filters if the return value of the function is ```False```. Namely, return only True element. In this case, the lambda function as a first element returns true if the element is even. That's why the result is the list of 2, 4, 6, 8. \n",
    "  \n",
    "Last example is about reduce function."
   ]
  },
  {
   "cell_type": "code",
   "execution_count": 105,
   "id": "d41c9af0",
   "metadata": {},
   "outputs": [
    {
     "name": "stdout",
     "output_type": "stream",
     "text": [
      "[1, 2, 3, 4]\n",
      "15\n"
     ]
    }
   ],
   "source": [
    "from functools import reduce\n",
    "\n",
    "nums = [i for i in range(1, 5)]\n",
    "print(nums)\n",
    "res = reduce(lambda x, y: x + y, nums, 5)  # ((((5+1)+2)+3)+4) = 10. 5: initial value\n",
    "print(res)"
   ]
  },
  {
   "cell_type": "markdown",
   "id": "f5ee62f2",
   "metadata": {},
   "source": [
    "Same as previous examples, ```reduce()``` takes a function as a first element, iterable object as a second object. Iterating the iterable object, ```reduce()``` accumulates the results of each operation. Additionaly, you can set initial value with third argument like the example above, which is optional."
   ]
  },
  {
   "cell_type": "markdown",
   "id": "1b1be136",
   "metadata": {},
   "source": [
    "### References  \n",
    "- https://www.programiz.com/python-programming/decorator\n",
    "- https://www.programiz.com/python-programming/closure\n",
    "- https://realpython.com/primer-on-python-decorators/\n",
    "- https://realpython.com/python-lambda/#python-lambda-and-regular-functions\n",
    "- https://towardsdatascience.com/5-advanced-tips-on-python-functions-1a0918017965\n",
    "- https://tykimos.github.io/2020/01/01/Python_Lambda_Map/\n",
    "- https://dojang.io/mod/page/view.php?id=2366\n",
    "- https://www.programiz.com/python-programming/anonymous-function"
   ]
  }
 ],
 "metadata": {
  "kernelspec": {
   "display_name": "nlp_assignment",
   "language": "python",
   "name": "nlp_assignment"
  },
  "language_info": {
   "codemirror_mode": {
    "name": "ipython",
    "version": 3
   },
   "file_extension": ".py",
   "mimetype": "text/x-python",
   "name": "python",
   "nbconvert_exporter": "python",
   "pygments_lexer": "ipython3",
   "version": "3.8.12"
  }
 },
 "nbformat": 4,
 "nbformat_minor": 5
}
